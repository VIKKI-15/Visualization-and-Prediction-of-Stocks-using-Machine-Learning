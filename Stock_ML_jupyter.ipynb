{
 "cells": [
  {
   "cell_type": "code",
   "execution_count": 13,
   "id": "6de953bc",
   "metadata": {},
   "outputs": [],
   "source": [
    "import numpy as np\n",
    "import matplotlib.pyplot as plt\n",
    "import pandas as pd \n",
    "import pandas_datareader as web\n",
    "import datetime as dt\n",
    "\n",
    "from sklearn.preprocessing import MinMaxScaler\n",
    "from tensorflow.keras.models import Sequential\n",
    "from tensorflow.keras.layers import Dense, Dropout, LSTM\n",
    "\n",
    "#Loading Data\n",
    "company = 'GOOG'\n",
    "\n",
    "start = dt.datetime(2012, 1, 1)\n",
    "end = dt.datetime(2020, 1, 1)\n",
    "\n",
    "data = web.DataReader(company, 'yahoo', start, end)\n",
    "\n",
    "#preparing data\n",
    "scaler = MinMaxScaler(feature_range=(0,1))\n",
    "scaled_data = scaler.fit_transform(data['Close'].values.reshape(-1,1))\n",
    "\n",
    "prediction_days = 60"
   ]
  },
  {
   "cell_type": "code",
   "execution_count": 14,
   "metadata": {},
   "outputs": [
    {
     "data": {
      "text/html": [
       "<div>\n",
       "<style scoped>\n",
       "    .dataframe tbody tr th:only-of-type {\n",
       "        vertical-align: middle;\n",
       "    }\n",
       "\n",
       "    .dataframe tbody tr th {\n",
       "        vertical-align: top;\n",
       "    }\n",
       "\n",
       "    .dataframe thead th {\n",
       "        text-align: right;\n",
       "    }\n",
       "</style>\n",
       "<table border=\"1\" class=\"dataframe\">\n",
       "  <thead>\n",
       "    <tr style=\"text-align: right;\">\n",
       "      <th></th>\n",
       "      <th>High</th>\n",
       "      <th>Low</th>\n",
       "      <th>Open</th>\n",
       "      <th>Close</th>\n",
       "      <th>Volume</th>\n",
       "      <th>Adj Close</th>\n",
       "    </tr>\n",
       "    <tr>\n",
       "      <th>Date</th>\n",
       "      <th></th>\n",
       "      <th></th>\n",
       "      <th></th>\n",
       "      <th></th>\n",
       "      <th></th>\n",
       "      <th></th>\n",
       "    </tr>\n",
       "  </thead>\n",
       "  <tbody>\n",
       "    <tr>\n",
       "      <th>2021-09-27</th>\n",
       "      <td>144.750000</td>\n",
       "      <td>138.000000</td>\n",
       "      <td>139.850006</td>\n",
       "      <td>143.699997</td>\n",
       "      <td>26041244</td>\n",
       "      <td>143.699997</td>\n",
       "    </tr>\n",
       "    <tr>\n",
       "      <th>2021-09-28</th>\n",
       "      <td>143.899994</td>\n",
       "      <td>137.649994</td>\n",
       "      <td>143.899994</td>\n",
       "      <td>139.000000</td>\n",
       "      <td>13489232</td>\n",
       "      <td>139.000000</td>\n",
       "    </tr>\n",
       "    <tr>\n",
       "      <th>2021-09-29</th>\n",
       "      <td>139.500000</td>\n",
       "      <td>136.500000</td>\n",
       "      <td>138.000000</td>\n",
       "      <td>138.500000</td>\n",
       "      <td>10801439</td>\n",
       "      <td>138.500000</td>\n",
       "    </tr>\n",
       "    <tr>\n",
       "      <th>2021-09-30</th>\n",
       "      <td>139.199997</td>\n",
       "      <td>136.149994</td>\n",
       "      <td>139.199997</td>\n",
       "      <td>136.600006</td>\n",
       "      <td>7825751</td>\n",
       "      <td>136.600006</td>\n",
       "    </tr>\n",
       "    <tr>\n",
       "      <th>2021-10-01</th>\n",
       "      <td>140.500000</td>\n",
       "      <td>137.000000</td>\n",
       "      <td>137.300003</td>\n",
       "      <td>138.000000</td>\n",
       "      <td>11940576</td>\n",
       "      <td>138.000000</td>\n",
       "    </tr>\n",
       "  </tbody>\n",
       "</table>\n",
       "</div>"
      ],
      "text/plain": [
       "                  High         Low        Open       Close    Volume  \\\n",
       "Date                                                                   \n",
       "2021-09-27  144.750000  138.000000  139.850006  143.699997  26041244   \n",
       "2021-09-28  143.899994  137.649994  143.899994  139.000000  13489232   \n",
       "2021-09-29  139.500000  136.500000  138.000000  138.500000  10801439   \n",
       "2021-09-30  139.199997  136.149994  139.199997  136.600006   7825751   \n",
       "2021-10-01  140.500000  137.000000  137.300003  138.000000  11940576   \n",
       "\n",
       "             Adj Close  \n",
       "Date                    \n",
       "2021-09-27  143.699997  \n",
       "2021-09-28  139.000000  \n",
       "2021-09-29  138.500000  \n",
       "2021-09-30  136.600006  \n",
       "2021-10-01  138.000000  "
      ]
     },
     "execution_count": 14,
     "metadata": {},
     "output_type": "execute_result"
    }
   ],
   "source": [
    "data.tail()"
   ]
  },
  {
   "cell_type": "code",
   "execution_count": 15,
   "metadata": {},
   "outputs": [
    {
     "data": {
      "text/html": [
       "<div>\n",
       "<style scoped>\n",
       "    .dataframe tbody tr th:only-of-type {\n",
       "        vertical-align: middle;\n",
       "    }\n",
       "\n",
       "    .dataframe tbody tr th {\n",
       "        vertical-align: top;\n",
       "    }\n",
       "\n",
       "    .dataframe thead th {\n",
       "        text-align: right;\n",
       "    }\n",
       "</style>\n",
       "<table border=\"1\" class=\"dataframe\">\n",
       "  <thead>\n",
       "    <tr style=\"text-align: right;\">\n",
       "      <th></th>\n",
       "      <th>High</th>\n",
       "      <th>Low</th>\n",
       "      <th>Open</th>\n",
       "      <th>Close</th>\n",
       "      <th>Volume</th>\n",
       "      <th>Adj Close</th>\n",
       "    </tr>\n",
       "    <tr>\n",
       "      <th>Date</th>\n",
       "      <th></th>\n",
       "      <th></th>\n",
       "      <th></th>\n",
       "      <th></th>\n",
       "      <th></th>\n",
       "      <th></th>\n",
       "    </tr>\n",
       "  </thead>\n",
       "  <tbody>\n",
       "    <tr>\n",
       "      <th>2021-07-26</th>\n",
       "      <td>143.750000</td>\n",
       "      <td>125.300003</td>\n",
       "      <td>126.349998</td>\n",
       "      <td>140.649994</td>\n",
       "      <td>249723854</td>\n",
       "      <td>140.649994</td>\n",
       "    </tr>\n",
       "    <tr>\n",
       "      <th>2021-07-27</th>\n",
       "      <td>147.800003</td>\n",
       "      <td>127.750000</td>\n",
       "      <td>141.699997</td>\n",
       "      <td>132.899994</td>\n",
       "      <td>240341900</td>\n",
       "      <td>132.899994</td>\n",
       "    </tr>\n",
       "    <tr>\n",
       "      <th>2021-07-28</th>\n",
       "      <td>135.000000</td>\n",
       "      <td>123.550003</td>\n",
       "      <td>131.000000</td>\n",
       "      <td>131.199997</td>\n",
       "      <td>159793731</td>\n",
       "      <td>131.199997</td>\n",
       "    </tr>\n",
       "    <tr>\n",
       "      <th>2021-07-29</th>\n",
       "      <td>144.000000</td>\n",
       "      <td>132.199997</td>\n",
       "      <td>134.949997</td>\n",
       "      <td>141.550003</td>\n",
       "      <td>117973089</td>\n",
       "      <td>141.550003</td>\n",
       "    </tr>\n",
       "    <tr>\n",
       "      <th>2021-07-30</th>\n",
       "      <td>142.699997</td>\n",
       "      <td>131.000000</td>\n",
       "      <td>142.600006</td>\n",
       "      <td>133.500000</td>\n",
       "      <td>88312522</td>\n",
       "      <td>133.500000</td>\n",
       "    </tr>\n",
       "  </tbody>\n",
       "</table>\n",
       "</div>"
      ],
      "text/plain": [
       "                  High         Low        Open       Close     Volume  \\\n",
       "Date                                                                    \n",
       "2021-07-26  143.750000  125.300003  126.349998  140.649994  249723854   \n",
       "2021-07-27  147.800003  127.750000  141.699997  132.899994  240341900   \n",
       "2021-07-28  135.000000  123.550003  131.000000  131.199997  159793731   \n",
       "2021-07-29  144.000000  132.199997  134.949997  141.550003  117973089   \n",
       "2021-07-30  142.699997  131.000000  142.600006  133.500000   88312522   \n",
       "\n",
       "             Adj Close  \n",
       "Date                    \n",
       "2021-07-26  140.649994  \n",
       "2021-07-27  132.899994  \n",
       "2021-07-28  131.199997  \n",
       "2021-07-29  141.550003  \n",
       "2021-07-30  133.500000  "
      ]
     },
     "execution_count": 15,
     "metadata": {},
     "output_type": "execute_result"
    }
   ],
   "source": [
    "data.head()"
   ]
  },
  {
   "cell_type": "code",
   "execution_count": 16,
   "id": "3f96177b",
   "metadata": {},
   "outputs": [],
   "source": [
    "x_train = []\n",
    "y_train = []\n",
    "\n",
    "for x in range(prediction_days, len(scaled_data)):\n",
    "    x_train.append(scaled_data[x- prediction_days:x, 0])\n",
    "    y_train.append(scaled_data[x, 0])"
   ]
  },
  {
   "cell_type": "code",
   "execution_count": 17,
   "id": "2d9e4a8f",
   "metadata": {},
   "outputs": [
    {
     "ename": "IndexError",
     "evalue": "tuple index out of range",
     "output_type": "error",
     "traceback": [
      "\u001b[1;31m---------------------------------------------------------------------------\u001b[0m",
      "\u001b[1;31mIndexError\u001b[0m                                Traceback (most recent call last)",
      "\u001b[1;32m~\\AppData\\Local\\Temp/ipykernel_11408/1446825976.py\u001b[0m in \u001b[0;36m<module>\u001b[1;34m\u001b[0m\n\u001b[0;32m      1\u001b[0m \u001b[0mx_train\u001b[0m\u001b[1;33m,\u001b[0m \u001b[0my_train\u001b[0m \u001b[1;33m=\u001b[0m \u001b[0mnp\u001b[0m\u001b[1;33m.\u001b[0m\u001b[0marray\u001b[0m\u001b[1;33m(\u001b[0m\u001b[0mx_train\u001b[0m\u001b[1;33m)\u001b[0m\u001b[1;33m,\u001b[0m \u001b[0mnp\u001b[0m\u001b[1;33m.\u001b[0m\u001b[0marray\u001b[0m\u001b[1;33m(\u001b[0m\u001b[0my_train\u001b[0m\u001b[1;33m)\u001b[0m\u001b[1;33m\u001b[0m\u001b[1;33m\u001b[0m\u001b[0m\n\u001b[1;32m----> 2\u001b[1;33m \u001b[0mx_train\u001b[0m \u001b[1;33m=\u001b[0m \u001b[0mnp\u001b[0m\u001b[1;33m.\u001b[0m\u001b[0mreshape\u001b[0m\u001b[1;33m(\u001b[0m\u001b[0mx_train\u001b[0m\u001b[1;33m,\u001b[0m \u001b[1;33m(\u001b[0m\u001b[0mx_train\u001b[0m\u001b[1;33m.\u001b[0m\u001b[0mshape\u001b[0m\u001b[1;33m[\u001b[0m\u001b[1;36m0\u001b[0m\u001b[1;33m]\u001b[0m\u001b[1;33m,\u001b[0m \u001b[0mx_train\u001b[0m\u001b[1;33m.\u001b[0m\u001b[0mshape\u001b[0m\u001b[1;33m[\u001b[0m\u001b[1;36m1\u001b[0m\u001b[1;33m]\u001b[0m\u001b[1;33m,\u001b[0m \u001b[1;36m1\u001b[0m\u001b[1;33m)\u001b[0m\u001b[1;33m)\u001b[0m\u001b[1;33m\u001b[0m\u001b[1;33m\u001b[0m\u001b[0m\n\u001b[0m",
      "\u001b[1;31mIndexError\u001b[0m: tuple index out of range"
     ]
    }
   ],
   "source": [
    "x_train, y_train = np.array(x_train), np.array(y_train)\n",
    "x_train = np.reshape(x_train, (x_train.shape[0], x_train.shape[1], 1))"
   ]
  },
  {
   "cell_type": "code",
   "execution_count": null,
   "id": "f49c4dd4",
   "metadata": {},
   "outputs": [],
   "source": [
    "#Build the Model\n",
    "model = Sequential()\n",
    "\n",
    "model.add(LSTM(units = 50, return_sequences=True, input_shape = (x_train.shape[1], 1)))\n",
    "model.add(Dropout(0.2))\n",
    "model.add(LSTM(units =50, return_sequences=True))\n",
    "model.add(Dropout(0.2))\n",
    "model.add(LSTM (units =50))\n",
    "model.add(Dropout(0.2))\n",
    "model.add(Dense(units =1)) #prediciton of next closing value"
   ]
  },
  {
   "cell_type": "code",
   "execution_count": null,
   "id": "971a5b63",
   "metadata": {},
   "outputs": [
    {
     "name": "stdout",
     "output_type": "stream",
     "text": [
      "Epoch 1/25\n",
      "61/61 [==============================] - 7s 56ms/step - loss: 0.0191\n",
      "Epoch 2/25\n",
      "61/61 [==============================] - 3s 56ms/step - loss: 0.0040\n",
      "Epoch 3/25\n",
      "61/61 [==============================] - 3s 57ms/step - loss: 0.0034\n",
      "Epoch 4/25\n",
      "61/61 [==============================] - 4s 69ms/step - loss: 0.0028\n",
      "Epoch 5/25\n",
      "61/61 [==============================] - 4s 59ms/step - loss: 0.0028\n",
      "Epoch 6/25\n",
      "61/61 [==============================] - 4s 59ms/step - loss: 0.0027\n",
      "Epoch 7/25\n",
      "61/61 [==============================] - 4s 63ms/step - loss: 0.0028\n",
      "Epoch 8/25\n",
      "61/61 [==============================] - 4s 60ms/step - loss: 0.0026\n",
      "Epoch 9/25\n",
      "61/61 [==============================] - 3s 55ms/step - loss: 0.0025\n",
      "Epoch 10/25\n",
      "61/61 [==============================] - 3s 57ms/step - loss: 0.0027\n",
      "Epoch 11/25\n",
      "61/61 [==============================] - 3s 55ms/step - loss: 0.0025\n",
      "Epoch 12/25\n",
      "61/61 [==============================] - 3s 55ms/step - loss: 0.0023\n",
      "Epoch 13/25\n",
      "61/61 [==============================] - 3s 57ms/step - loss: 0.0022\n",
      "Epoch 14/25\n",
      "61/61 [==============================] - 4s 59ms/step - loss: 0.0024\n",
      "Epoch 15/25\n",
      "61/61 [==============================] - 4s 59ms/step - loss: 0.0023\n",
      "Epoch 16/25\n",
      "61/61 [==============================] - 4s 58ms/step - loss: 0.0022\n",
      "Epoch 17/25\n",
      "61/61 [==============================] - 4s 66ms/step - loss: 0.0021\n",
      "Epoch 18/25\n",
      "61/61 [==============================] - 5s 76ms/step - loss: 0.0020\n",
      "Epoch 19/25\n",
      "61/61 [==============================] - 4s 61ms/step - loss: 0.0021\n",
      "Epoch 20/25\n",
      "61/61 [==============================] - 6s 94ms/step - loss: 0.0019\n",
      "Epoch 21/25\n",
      "61/61 [==============================] - 5s 76ms/step - loss: 0.0018\n",
      "Epoch 22/25\n",
      "61/61 [==============================] - 4s 70ms/step - loss: 0.0020\n",
      "Epoch 23/25\n",
      "61/61 [==============================] - 4s 69ms/step - loss: 0.0018\n",
      "Epoch 24/25\n",
      "61/61 [==============================] - 4s 72ms/step - loss: 0.0019\n",
      "Epoch 25/25\n",
      "61/61 [==============================] - 4s 68ms/step - loss: 0.0018\n"
     ]
    },
    {
     "data": {
      "text/plain": [
       "<keras.callbacks.History at 0x1b06ef319d0>"
      ]
     },
     "execution_count": 7,
     "metadata": {},
     "output_type": "execute_result"
    }
   ],
   "source": [
    "model.compile(optimizer='adam', loss = 'mean_squared_error')\n",
    "model.fit(x_train, y_train, epochs=25, batch_size= 32)"
   ]
  },
  {
   "cell_type": "code",
   "execution_count": null,
   "id": "3ebd29cd",
   "metadata": {},
   "outputs": [],
   "source": [
    "#Testing the model accuracy on existing data\n",
    "#Loading the Test Dataa\n",
    "test_start = dt.datetime(2020, 1, 1)\n",
    "test_end = dt.datetime.now()\n",
    "\n",
    "test_data = web.DataReader(company, 'yahoo', test_start, test_end)\n",
    "actual_prices = test_data['Close'].values\n",
    "\n",
    "total_dataset = pd.concat((data['Close'], test_data['Close']), axis=0)\n",
    "\n",
    "model_inputs = total_dataset[len(total_dataset) - len (test_data) - prediction_days:].values\n",
    "model_inputs = model_inputs.reshape(-1, 1)\n",
    "model_inputs = scaler.transform(model_inputs)"
   ]
  },
  {
   "cell_type": "code",
   "execution_count": null,
   "id": "dfc4e001",
   "metadata": {},
   "outputs": [],
   "source": [
    "#making predection on test dataa\n",
    "\n",
    "x_test = []\n",
    "\n",
    "for x in range (prediction_days, len(model_inputs)):\n",
    "    x_test.append(model_inputs[x - prediction_days:x, 0])\n",
    "\n",
    "x_test = np.array(x_test)\n",
    "x_test = np.reshape(x_test, (x_test.shape[0], x_test.shape[1], 1))\n",
    "\n",
    "prediced_prices = model.predict(x_test)\n",
    "prediced_prices = scaler.inverse_transform(prediced_prices)\n"
   ]
  },
  {
   "cell_type": "code",
   "execution_count": null,
   "id": "f80e4e9d",
   "metadata": {},
   "outputs": [
    {
     "data": {
      "image/png": "[encoded data removed]",
      "text/plain": [
       "<Figure size 432x288 with 1 Axes>"
      ]
     },
     "metadata": {
      "needs_background": "light"
     },
     "output_type": "display_data"
    }
   ],
   "source": [
    "#ploting the tested predictions\n",
    "\n",
    "plt.plot(actual_prices, color = 'red', label =  f\"Actual {company} Price\")\n",
    "plt.plot(actual_prices, color = 'yellow', label = f\"Predicted {company} Price\")\n",
    "plt.title(f\"{company} Share Price\")\n",
    "plt.xlabel('Time')\n",
    "plt.ylabel(f'{company} Share Price')\n",
    "plt.legend()\n",
    "plt.show()"
   ]
  },
  {
   "cell_type": "code",
   "execution_count": null,
   "id": "1115906f",
   "metadata": {},
   "outputs": [
    {
     "name": "stdout",
     "output_type": "stream",
     "text": [
      "WARNING:tensorflow:Model was constructed with shape (None, 60, 1) for input KerasTensor(type_spec=TensorSpec(shape=(None, 60, 1), dtype=tf.float32, name='lstm_input'), name='lstm_input', description=\"created by layer 'lstm_input'\"), but it was called on an input with incompatible shape (None, 59, 1).\n",
      "Prediction: [[2272.8635]]\n"
     ]
    }
   ],
   "source": [
    "#predicting next day\n",
    "\n",
    "real_data = [model_inputs[len(model_inputs) +1 - prediction_days:len(model_inputs+1), 0]]\n",
    "real_data = np.array(real_data)\n",
    "real_data = np.reshape(real_data, (real_data.shape[0], real_data.shape[1], 1))\n",
    "\n",
    "prediction = model.predict(real_data)\n",
    "prediction = scaler.inverse_transform(prediction)\n",
    "print(f\"Prediction: {prediction}\")"
   ]
  },
  {
   "cell_type": "code",
   "execution_count": null,
   "id": "8af3e00f",
   "metadata": {},
   "outputs": [],
   "source": []
  }
 ],
 "metadata": {
  "interpreter": {
   "hash": "83b5c454196e541f9155f3ee4f2ff1da305b0099cef7b5e6793cef05a0c7a817"
  },
  "kernelspec": {
   "display_name": "Python 3.9.7 64-bit",
   "name": "python3"
  },
  "language_info": {
   "codemirror_mode": {
    "name": "ipython",
    "version": 3
   },
   "file_extension": ".py",
   "mimetype": "text/x-python",
   "name": "python",
   "nbconvert_exporter": "python",
   "pygments_lexer": "ipython3",
   "version": "3.9.7"
  }
 },
 "nbformat": 4,
 "nbformat_minor": 5
}
